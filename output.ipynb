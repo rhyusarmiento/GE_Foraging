{
 "cells": [
  {
   "cell_type": "code",
   "execution_count": 1,
   "metadata": {},
   "outputs": [
    {
     "name": "stdout",
     "output_type": "stream",
     "text": [
      "Agent:\n"
     ]
    },
    {
     "ename": "AttributeError",
     "evalue": "'Den' object has no attribute 'getLocaction'",
     "output_type": "error",
     "traceback": [
      "\u001b[1;31m---------------------------------------------------------------------------\u001b[0m",
      "\u001b[1;31mAttributeError\u001b[0m                            Traceback (most recent call last)",
      "Cell \u001b[1;32mIn[1], line 9\u001b[0m\n\u001b[0;32m      7\u001b[0m agent \u001b[38;5;241m=\u001b[39m Agent(ggraph)\n\u001b[0;32m      8\u001b[0m agent\u001b[38;5;241m.\u001b[39msetup()\n\u001b[1;32m----> 9\u001b[0m \u001b[43magent\u001b[49m\u001b[38;5;241;43m.\u001b[39;49m\u001b[43mSM\u001b[49m\u001b[38;5;241;43m.\u001b[39;49m\u001b[43mdisplay\u001b[49m\u001b[43m(\u001b[49m\u001b[43m)\u001b[49m\n",
      "File \u001b[1;32mc:\\Users\\rhyus\\OneDrive\\Desktop\\development\\RAwork\\GE_Foraging\\StateMachine.py:226\u001b[0m, in \u001b[0;36mStateMachine.display\u001b[1;34m(self)\u001b[0m\n\u001b[0;32m    224\u001b[0m     nodex\u001b[38;5;241m.\u001b[39mappend(x)\n\u001b[0;32m    225\u001b[0m \u001b[38;5;28;01mfor\u001b[39;00m key \u001b[38;5;129;01min\u001b[39;00m state\u001b[38;5;241m.\u001b[39mOutros:\n\u001b[1;32m--> 226\u001b[0m     x1,y1 \u001b[38;5;241m=\u001b[39m \u001b[43mstate\u001b[49m\u001b[38;5;241;43m.\u001b[39;49m\u001b[43mOutros\u001b[49m\u001b[43m[\u001b[49m\u001b[43mkey\u001b[49m\u001b[43m]\u001b[49m\u001b[38;5;241;43m.\u001b[39;49m\u001b[43mgetLocaction\u001b[49m()\n\u001b[0;32m    227\u001b[0m     edgex\u001b[38;5;241m.\u001b[39mappend(x)\n\u001b[0;32m    228\u001b[0m     edgex\u001b[38;5;241m.\u001b[39mappend(x1)\n",
      "\u001b[1;31mAttributeError\u001b[0m: 'Den' object has no attribute 'getLocaction'"
     ]
    }
   ],
   "source": [
    "from Agent import Agent\n",
    "from GGraph import GGraph\n",
    "from const import RULES\n",
    "\n",
    "ggraph = GGraph(RULES)\n",
    "print(\"Agent:\")\n",
    "agent = Agent(ggraph)\n",
    "agent.setup()\n",
    "agent.SM.display()"
   ]
  }
 ],
 "metadata": {
  "kernelspec": {
   "display_name": ".venv",
   "language": "python",
   "name": "python3"
  },
  "language_info": {
   "codemirror_mode": {
    "name": "ipython",
    "version": 3
   },
   "file_extension": ".py",
   "mimetype": "text/x-python",
   "name": "python",
   "nbconvert_exporter": "python",
   "pygments_lexer": "ipython3",
   "version": "3.11.4"
  }
 },
 "nbformat": 4,
 "nbformat_minor": 2
}
