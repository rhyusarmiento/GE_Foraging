{
 "cells": [
  {
   "cell_type": "code",
   "execution_count": null,
   "metadata": {},
   "outputs": [],
   "source": [
    "from Agent import Agent\n",
    "from Environment import Environment, FoodContainer, Den\n",
    "from const import TOTALFOOD, ENVIORN_DIM\n",
    "import random\n",
    "from GGraph import GGraph\n",
    "from const import RULES\n",
    "\n",
    "world = Environment()\n",
    "world.buildEnvironment()\n",
    "for food in range(TOTALFOOD):\n",
    "    foodContainer = FoodContainer()\n",
    "    world.inputObjectXY((random.randint(0,ENVIORN_DIM), random.randint(0,ENVIORN_DIM)),foodContainer)\n",
    "\n",
    "agentDen = Den((random.randint(0,ENVIORN_DIM), random.randint(0,ENVIORN_DIM)))\n",
    "world.inputObjectXY(agentDen.locationXY, agentDen)\n",
    "\n",
    "ggraph = GGraph(RULES)\n",
    "agent = Agent(ggraph, agentDen, world)\n",
    "# world.printSpace()\n",
    "foodBefore = world.numFood\n",
    "agent.runAgent()\n",
    "# agent.SM.printSM()\n",
    "agent.SM.display()\n",
    "print(f'Food in World: before:{foodBefore} then:{world.numFood} Agent: {agent.numFood}')\n",
    "print(f'hunger: {agent.hunger}')\n",
    "print(f'score: {agent.score}')\n",
    "world.printSpace()"
   ]
  }
 ],
 "metadata": {
  "kernelspec": {
   "display_name": ".venv",
   "language": "python",
   "name": "python3"
  },
  "language_info": {
   "codemirror_mode": {
    "name": "ipython",
    "version": 3
   },
   "file_extension": ".py",
   "mimetype": "text/x-python",
   "name": "python",
   "nbconvert_exporter": "python",
   "pygments_lexer": "ipython3",
   "version": "3.11.4"
  }
 },
 "nbformat": 4,
 "nbformat_minor": 2
}
