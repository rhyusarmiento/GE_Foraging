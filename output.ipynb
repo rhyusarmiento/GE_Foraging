{
 "cells": [
  {
   "cell_type": "code",
   "execution_count": 2,
   "metadata": {},
   "outputs": [
    {
     "ename": "AttributeError",
     "evalue": "'bool' object has no attribute 'Name'",
     "output_type": "error",
     "traceback": [
      "\u001b[1;31m---------------------------------------------------------------------------\u001b[0m",
      "\u001b[1;31mAttributeError\u001b[0m                            Traceback (most recent call last)",
      "Cell \u001b[1;32mIn[2], line 22\u001b[0m\n\u001b[0;32m     20\u001b[0m \u001b[38;5;66;03m# world.printSpace()\u001b[39;00m\n\u001b[0;32m     21\u001b[0m foodBefore \u001b[38;5;241m=\u001b[39m world\u001b[38;5;241m.\u001b[39mnumFood\n\u001b[1;32m---> 22\u001b[0m \u001b[43magent\u001b[49m\u001b[38;5;241;43m.\u001b[39;49m\u001b[43mrunAgent\u001b[49m\u001b[43m(\u001b[49m\u001b[43m)\u001b[49m\n\u001b[0;32m     23\u001b[0m \u001b[38;5;66;03m# agent.SM.printSM()\u001b[39;00m\n\u001b[0;32m     24\u001b[0m \u001b[38;5;66;03m# agent.SM.display()\u001b[39;00m\n\u001b[0;32m     25\u001b[0m agent\u001b[38;5;241m.\u001b[39mExploreTree\u001b[38;5;241m.\u001b[39mprintTree()\n",
      "File \u001b[1;32mc:\\Users\\rhyus\\OneDrive\\Desktop\\development\\RAwork\\GE_Foraging\\Agent.py:512\u001b[0m, in \u001b[0;36mAgent.runAgent\u001b[1;34m(self)\u001b[0m\n\u001b[0;32m    506\u001b[0m \u001b[38;5;28;01mif\u001b[39;00m \u001b[38;5;28mself\u001b[39m\u001b[38;5;241m.\u001b[39mcurrentState \u001b[38;5;129;01mis\u001b[39;00m \u001b[38;5;129;01mnot\u001b[39;00m \u001b[38;5;28;01mNone\u001b[39;00m:\n\u001b[0;32m    507\u001b[0m     \u001b[38;5;28;01mwhile\u001b[39;00m(\u001b[38;5;28mself\u001b[39m\u001b[38;5;241m.\u001b[39mrunning):\n\u001b[0;32m    508\u001b[0m         \u001b[38;5;66;03m# py.display.flip()\u001b[39;00m\n\u001b[0;32m    509\u001b[0m         \u001b[38;5;66;03m# for event in py.event.get():\u001b[39;00m\n\u001b[0;32m    510\u001b[0m         \u001b[38;5;66;03m#     if event.type == py.QUIT:\u001b[39;00m\n\u001b[0;32m    511\u001b[0m         \u001b[38;5;66;03m#         running = False\u001b[39;00m\n\u001b[1;32m--> 512\u001b[0m         \u001b[38;5;28;43mself\u001b[39;49m\u001b[38;5;241;43m.\u001b[39;49m\u001b[43mrunStateBehavior\u001b[49m\u001b[43m(\u001b[49m\u001b[43m)\u001b[49m\n\u001b[0;32m    513\u001b[0m         \u001b[38;5;66;03m# self.worldMap.updateScreen()\u001b[39;00m\n\u001b[0;32m    514\u001b[0m         \u001b[38;5;66;03m# py.draw.rect(self.worldMap.screen, (50,50,50,50), py.Rect(self.locationXY, (10,10)))\u001b[39;00m\n\u001b[0;32m    515\u001b[0m         \u001b[38;5;66;03m# clock.tick(60)\u001b[39;00m\n\u001b[0;32m    516\u001b[0m         \u001b[38;5;66;03m# py.display.update()\u001b[39;00m\n\u001b[0;32m    517\u001b[0m \u001b[38;5;28;01melse\u001b[39;00m:\n\u001b[0;32m    518\u001b[0m     \u001b[38;5;28mprint\u001b[39m(\u001b[38;5;124m\"\u001b[39m\u001b[38;5;124mdead agent; no start state\u001b[39m\u001b[38;5;124m\"\u001b[39m)\n",
      "File \u001b[1;32mc:\\Users\\rhyus\\OneDrive\\Desktop\\development\\RAwork\\GE_Foraging\\Agent.py:458\u001b[0m, in \u001b[0;36mAgent.runStateBehavior\u001b[1;34m(self)\u001b[0m\n\u001b[0;32m    456\u001b[0m     setter \u001b[38;5;241m=\u001b[39m \u001b[38;5;28mself\u001b[39m\u001b[38;5;241m.\u001b[39mConsume()\n\u001b[0;32m    457\u001b[0m \u001b[38;5;28;01melif\u001b[39;00m behaviorKey \u001b[38;5;241m==\u001b[39m \u001b[38;5;124m\"\u001b[39m\u001b[38;5;124mExplore\u001b[39m\u001b[38;5;124m\"\u001b[39m:\n\u001b[1;32m--> 458\u001b[0m     setter \u001b[38;5;241m=\u001b[39m \u001b[38;5;28;43mself\u001b[39;49m\u001b[38;5;241;43m.\u001b[39;49m\u001b[43mExplore\u001b[49m\u001b[43m(\u001b[49m\u001b[43m)\u001b[49m\n\u001b[0;32m    459\u001b[0m \u001b[38;5;28;01melif\u001b[39;00m behaviorKey \u001b[38;5;241m==\u001b[39m \u001b[38;5;124m\"\u001b[39m\u001b[38;5;124mDen\u001b[39m\u001b[38;5;124m\"\u001b[39m:\n\u001b[0;32m    460\u001b[0m     setter \u001b[38;5;241m=\u001b[39m \u001b[38;5;28mself\u001b[39m\u001b[38;5;241m.\u001b[39mDen()\n",
      "File \u001b[1;32mc:\\Users\\rhyus\\OneDrive\\Desktop\\development\\RAwork\\GE_Foraging\\Agent.py:279\u001b[0m, in \u001b[0;36mAgent.Explore\u001b[1;34m(self)\u001b[0m\n\u001b[0;32m    277\u001b[0m isDone \u001b[38;5;241m=\u001b[39m \u001b[38;5;28;01mNone\u001b[39;00m\n\u001b[0;32m    278\u001b[0m \u001b[38;5;28;01mwhile\u001b[39;00m \u001b[38;5;28mself\u001b[39m\u001b[38;5;241m.\u001b[39mrunning \u001b[38;5;129;01mor\u001b[39;00m isDone \u001b[38;5;241m!=\u001b[39m \u001b[38;5;124m\"\u001b[39m\u001b[38;5;124misBored\u001b[39m\u001b[38;5;124m\"\u001b[39m \u001b[38;5;129;01mor\u001b[39;00m isDone \u001b[38;5;241m!=\u001b[39m \u001b[38;5;124m\"\u001b[39m\u001b[38;5;124misFood\u001b[39m\u001b[38;5;124m\"\u001b[39m:\n\u001b[1;32m--> 279\u001b[0m     isDone \u001b[38;5;241m=\u001b[39m \u001b[38;5;28;43mself\u001b[39;49m\u001b[38;5;241;43m.\u001b[39;49m\u001b[43mrunExploreTree\u001b[49m\u001b[43m(\u001b[49m\u001b[43m)\u001b[49m\n\u001b[0;32m    280\u001b[0m     \u001b[38;5;28;01mif\u001b[39;00m \u001b[38;5;28mself\u001b[39m\u001b[38;5;241m.\u001b[39misDead():\n\u001b[0;32m    281\u001b[0m         \u001b[38;5;28;01mreturn\u001b[39;00m \u001b[38;5;124m\"\u001b[39m\u001b[38;5;124mDead\u001b[39m\u001b[38;5;124m\"\u001b[39m\n",
      "File \u001b[1;32mc:\\Users\\rhyus\\OneDrive\\Desktop\\development\\RAwork\\GE_Foraging\\Agent.py:271\u001b[0m, in \u001b[0;36mAgent.runExploreTree\u001b[1;34m(self)\u001b[0m\n\u001b[0;32m    269\u001b[0m     \u001b[38;5;28mself\u001b[39m\u001b[38;5;241m.\u001b[39mend()\n\u001b[0;32m    270\u001b[0m \u001b[38;5;28;01melse\u001b[39;00m:\n\u001b[1;32m--> 271\u001b[0m     \u001b[38;5;28;01mreturn\u001b[39;00m \u001b[38;5;28;43mself\u001b[39;49m\u001b[38;5;241;43m.\u001b[39;49m\u001b[43mrunTreeChildren\u001b[49m\u001b[43m(\u001b[49m\u001b[38;5;28;43mself\u001b[39;49m\u001b[38;5;241;43m.\u001b[39;49m\u001b[43mExploreTree\u001b[49m\u001b[38;5;241;43m.\u001b[39;49m\u001b[43mroot\u001b[49m\u001b[43m)\u001b[49m\n",
      "File \u001b[1;32mc:\\Users\\rhyus\\OneDrive\\Desktop\\development\\RAwork\\GE_Foraging\\Agent.py:248\u001b[0m, in \u001b[0;36mAgent.runTreeChildren\u001b[1;34m(self, parent)\u001b[0m\n\u001b[0;32m    246\u001b[0m \u001b[38;5;28;01melif\u001b[39;00m parent\u001b[38;5;241m.\u001b[39mName \u001b[38;5;241m==\u001b[39m \u001b[38;5;124m\"\u001b[39m\u001b[38;5;124mprogs\u001b[39m\u001b[38;5;124m\"\u001b[39m:\n\u001b[0;32m    247\u001b[0m     \u001b[38;5;28;01mfor\u001b[39;00m x \u001b[38;5;129;01min\u001b[39;00m \u001b[38;5;28mrange\u001b[39m(parent\u001b[38;5;241m.\u001b[39mmaxChildren):\n\u001b[1;32m--> 248\u001b[0m         result \u001b[38;5;241m=\u001b[39m \u001b[38;5;28;43mself\u001b[39;49m\u001b[38;5;241;43m.\u001b[39;49m\u001b[43mrunTreeChildren\u001b[49m\u001b[43m(\u001b[49m\u001b[43mparent\u001b[49m\u001b[38;5;241;43m.\u001b[39;49m\u001b[43mgetChild\u001b[49m\u001b[43m(\u001b[49m\u001b[43mx\u001b[49m\u001b[43m)\u001b[49m\u001b[43m)\u001b[49m\n\u001b[0;32m    249\u001b[0m         \u001b[38;5;28;01mif\u001b[39;00m result \u001b[38;5;241m==\u001b[39m \u001b[38;5;124m\"\u001b[39m\u001b[38;5;124misFood\u001b[39m\u001b[38;5;124m\"\u001b[39m:\n\u001b[0;32m    250\u001b[0m             \u001b[38;5;28;01mreturn\u001b[39;00m result\n",
      "File \u001b[1;32mc:\\Users\\rhyus\\OneDrive\\Desktop\\development\\RAwork\\GE_Foraging\\Agent.py:239\u001b[0m, in \u001b[0;36mAgent.runTreeChildren\u001b[1;34m(self, parent)\u001b[0m\n\u001b[0;32m    238\u001b[0m \u001b[38;5;28;01mdef\u001b[39;00m \u001b[38;5;21mrunTreeChildren\u001b[39m(\u001b[38;5;28mself\u001b[39m, parent):\n\u001b[1;32m--> 239\u001b[0m     \u001b[38;5;28;01mif\u001b[39;00m \u001b[43mparent\u001b[49m\u001b[38;5;241;43m.\u001b[39;49m\u001b[43mName\u001b[49m \u001b[38;5;241m==\u001b[39m \u001b[38;5;124m\"\u001b[39m\u001b[38;5;124misFood\u001b[39m\u001b[38;5;124m\"\u001b[39m:\n\u001b[0;32m    240\u001b[0m         \u001b[38;5;28;01mreturn\u001b[39;00m parent\u001b[38;5;241m.\u001b[39mName\n\u001b[0;32m    241\u001b[0m     \u001b[38;5;28;01melif\u001b[39;00m parent\u001b[38;5;241m.\u001b[39mName \u001b[38;5;241m==\u001b[39m \u001b[38;5;124m\"\u001b[39m\u001b[38;5;124misBored\u001b[39m\u001b[38;5;124m\"\u001b[39m:\n",
      "\u001b[1;31mAttributeError\u001b[0m: 'bool' object has no attribute 'Name'"
     ]
    },
    {
     "ename": "",
     "evalue": "",
     "output_type": "error",
     "traceback": [
      "\u001b[1;31mThe Kernel crashed while executing code in the current cell or a previous cell. \n",
      "\u001b[1;31mPlease review the code in the cell(s) to identify a possible cause of the failure. \n",
      "\u001b[1;31mClick <a href='https://aka.ms/vscodeJupyterKernelCrash'>here</a> for more info. \n",
      "\u001b[1;31mView Jupyter <a href='command:jupyter.viewOutput'>log</a> for further details."
     ]
    }
   ],
   "source": [
    "from Agent import Agent\n",
    "from Environment import Environment, FoodContainer, Den\n",
    "from const import TOTALFOOD, ENVIORN_DIM\n",
    "import random\n",
    "from GGraph import GGraph\n",
    "from const import STATE_RULES, EXPLORE_RULES\n",
    "\n",
    "world = Environment()\n",
    "for food in range(TOTALFOOD):\n",
    "    spot = (random.randint(0,ENVIORN_DIM), random.randint(0,ENVIORN_DIM))\n",
    "    foodContainer = FoodContainer(location=spot)\n",
    "    world.inputObjectXY(spot, foodContainer)\n",
    "\n",
    "agentDen = Den((random.randint(0,ENVIORN_DIM), random.randint(0,ENVIORN_DIM)))\n",
    "world.inputObjectXY(agentDen.locationXY, agentDen)\n",
    "\n",
    "stateGraph = GGraph(STATE_RULES)\n",
    "exploreGraph = GGraph(EXPLORE_RULES)\n",
    "agent = Agent(stateGraph, exploreGraph, agentDen, world)\n",
    "# world.printSpace()\n",
    "foodBefore = world.numFood\n",
    "agent.runAgent()\n",
    "# agent.SM.printSM()\n",
    "# agent.SM.display()\n",
    "agent.ExploreTree.printTree()\n",
    "print(f'Food in World: before:{foodBefore} then:{world.numFood} Agent: {agent.numFood}')\n",
    "print(f'hunger: {agent.hunger}')\n",
    "print(f'score: {agent.score}')\n",
    "# world.printSpace()"
   ]
  }
 ],
 "metadata": {
  "kernelspec": {
   "display_name": ".venv",
   "language": "python",
   "name": "python3"
  },
  "language_info": {
   "codemirror_mode": {
    "name": "ipython",
    "version": 3
   },
   "file_extension": ".py",
   "mimetype": "text/x-python",
   "name": "python",
   "nbconvert_exporter": "python",
   "pygments_lexer": "ipython3",
   "version": "3.11.4"
  }
 },
 "nbformat": 4,
 "nbformat_minor": 2
}
